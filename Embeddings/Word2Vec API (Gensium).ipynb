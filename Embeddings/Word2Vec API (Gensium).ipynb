{
 "cells": [
  {
   "cell_type": "markdown",
   "metadata": {},
   "source": [
    "### 常见的 word2vec    API \n",
    "Original: http://word2vec.googlecode.com/svn/trunk/  \n",
    "C++11 version: https://github.com/jdeng/word2vec  \n",
    "Python: http://radimrehurek.com/gensim/models/word2vec.html  \n",
    "Java: https://github.com/ansjsun/word2vec_java  \n",
    "Parallel java: https://github.com/siegfang/word2vec   \n",
    "CUDAversion: https://github.com/whatupbiatch/cuda-word2vec  "
   ]
  },
  {
   "cell_type": "markdown",
   "metadata": {},
   "source": [
    "### Using Gensim"
   ]
  },
  {
   "cell_type": "code",
   "execution_count": 7,
   "metadata": {
    "collapsed": true
   },
   "outputs": [],
   "source": [
    "# These are all the modules we'll be using later. Make sure you can import them\n",
    "# before proceeding further.\n",
    "%matplotlib inline\n",
    "from __future__ import print_function\n",
    "import collections\n",
    "# import logging\n",
    "import math\n",
    "import numpy as np\n",
    "import os\n",
    "import random\n",
    "import tensorflow as tf\n",
    "import zipfile\n",
    "from gensim.models import word2vec, KeyedVectors\n",
    "from matplotlib import pylab\n",
    "from six.moves import range\n",
    "from six.moves.urllib.request import urlretrieve\n",
    "from sklearn.manifold import TSNE\n",
    "\n",
    "# logging.basicConfig(format='%(asctime)s : %(levelname)s : %(message)s', level=logging.INFO)"
   ]
  },
  {
   "cell_type": "code",
   "execution_count": null,
   "metadata": {
    "collapsed": false
   },
   "outputs": [
    {
     "name": "stdout",
     "output_type": "stream",
     "text": [
      "Found and verified text8.zip\n",
      "Success unzip text8.zip\n"
     ]
    }
   ],
   "source": [
    "# Download the data from the source website if necessary. [http://mattmahoney.net/dc/text8.zip]\n",
    "url = 'http://mattmahoney.net/dc/'\n",
    "def maybe_download(filename, expected_bytes):\n",
    "  \"\"\"Download a file if not present, and make sure it's the right size.\"\"\"\n",
    "  if not os.path.exists(filename):\n",
    "    filename, _ = urlretrieve(url + filename, filename)\n",
    "  statinfo = os.stat(filename)\n",
    "  if statinfo.st_size == expected_bytes:\n",
    "    print('Found and verified %s' % filename)\n",
    "  else:\n",
    "    print(statinfo.st_size)\n",
    "    raise Exception(\n",
    "      'Failed to verify ' + filename + '. Can you get to it with a browser?')\n",
    "  return filename\n",
    "\n",
    "filename = maybe_download('text8.zip', 31344016)\n",
    "\n",
    "# unzip text8.zip file \n",
    "with zipfile.ZipFile(\"text8.zip\",\"r\") as zip_ref:\n",
    "    zip_ref.extractall(\"tmp/\")\n",
    "print(\"Success unzip text8.zip\")\n",
    "\n",
    "sentences = word2vec.Text8Corpus('tmp/text8')"
   ]
  },
  {
   "cell_type": "code",
   "execution_count": null,
   "metadata": {
    "collapsed": true
   },
   "outputs": [],
   "source": [
    "# train the word2vec model\n",
    "model = word2vec.Word2Vec(\n",
    "    sentences,\n",
    "    sg = 1, # 1 use skip-gram model, 0 use CBOW\n",
    "    iter = 5, # epoch is 5 times, total run 5 + 1 times\n",
    "    seed = 1,  #  seed\n",
    "    size = 200, # length of vector， usually between 100 and 1000, default is 100\n",
    "    window =7, #  word left and right\n",
    "    workers = 1, # number of thread, use it only install Cython, default is 1\n",
    ")"
   ]
  },
  {
   "cell_type": "markdown",
   "metadata": {},
   "source": [
    "### Explore Word2Vec Model"
   ]
  },
  {
   "cell_type": "code",
   "execution_count": null,
   "metadata": {
    "collapsed": false
   },
   "outputs": [],
   "source": [
    "# save and reload model \n",
    "# [pickle] \n",
    "model.save('tmp/text8.model')\n",
    "model1 = word2vec.Word2Vec.load('tmp/text8.model')\n",
    "\n",
    "# [binary]\n",
    "model.wv.save_word2vec_format('tmp/text8.model.bin', binary=True)\n",
    "model2 = KeyedVectors.load_word2vec_format('tmp/text8.model.bin', binary=True)"
   ]
  },
  {
   "cell_type": "code",
   "execution_count": null,
   "metadata": {
    "collapsed": false
   },
   "outputs": [],
   "source": [
    "model['computer'] # get the vector of word"
   ]
  },
  {
   "cell_type": "code",
   "execution_count": null,
   "metadata": {
    "collapsed": false
   },
   "outputs": [],
   "source": [
    "model.most_similar(['man'])"
   ]
  },
  {
   "cell_type": "code",
   "execution_count": null,
   "metadata": {
    "collapsed": false
   },
   "outputs": [],
   "source": [
    "model.similarity('woman', 'man')"
   ]
  },
  {
   "cell_type": "code",
   "execution_count": null,
   "metadata": {
    "collapsed": false
   },
   "outputs": [],
   "source": [
    "# \"boy\" is to \"father\" as \"girl\" is to ...?\n",
    "model.most_similar(positive=['girl', 'father'],  negative=['boy'], topn=2)"
   ]
  },
  {
   "cell_type": "code",
   "execution_count": null,
   "metadata": {
    "collapsed": false
   },
   "outputs": [],
   "source": [
    "# which word doesn't go with the others?\n",
    "model.doesnt_match(\"breakfast cereal dinner lunch\".split())"
   ]
  },
  {
   "cell_type": "code",
   "execution_count": null,
   "metadata": {
    "collapsed": true
   },
   "outputs": [],
   "source": [
    "more_examples = [\"he his she\", \"big bigger bad\", \"going went being\"]\n",
    "for example in more_examples:\n",
    "    a, b, x = example.split()\n",
    "    predicted = model.most_similar([x, b], [a])[0][0]\n",
    "    print(\"'%s' is to '%s' as '%s' is to '%s'\"%(a, b, x, predicted))"
   ]
  },
  {
   "cell_type": "code",
   "execution_count": null,
   "metadata": {
    "collapsed": true
   },
   "outputs": [],
   "source": []
  }
 ],
 "metadata": {
  "kernelspec": {
   "display_name": "Python 2",
   "language": "python",
   "name": "python2"
  },
  "language_info": {
   "codemirror_mode": {
    "name": "ipython",
    "version": 2
   },
   "file_extension": ".py",
   "mimetype": "text/x-python",
   "name": "python",
   "nbconvert_exporter": "python",
   "pygments_lexer": "ipython2",
   "version": "2.7.10"
  }
 },
 "nbformat": 4,
 "nbformat_minor": 2
}
